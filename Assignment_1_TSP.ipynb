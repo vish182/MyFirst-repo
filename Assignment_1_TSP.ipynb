{
 "cells": [
  {
   "cell_type": "code",
   "execution_count": 1,
   "metadata": {
    "colab": {
     "base_uri": "https://localhost:8080/"
    },
    "executionInfo": {
     "elapsed": 8,
     "status": "ok",
     "timestamp": 1646412624332,
     "user": {
      "displayName": "Dr. Ketaki Naik-Malgi",
      "photoUrl": "https://lh3.googleusercontent.com/a/default-user=s64",
      "userId": "12504529177694604968"
     },
     "user_tz": -330
    },
    "id": "c121a3d1",
    "outputId": "2bea444a-7dcb-4730-c2e9-4d40fa33d85b"
   },
   "outputs": [
    {
     "name": "stdout",
     "output_type": "stream",
     "text": [
      "Path -> 1 -> 2 -> 4 -> 3 -> 1    :    Cost = 80\n",
      "Path -> 2 -> 1 -> 3 -> 4 -> 2    :    Cost = 80\n",
      "Path -> 3 -> 1 -> 2 -> 4 -> 3    :    Cost = 80\n",
      "Path -> 4 -> 1 -> 2 -> 3 -> 4    :    Cost = 95\n",
      "Optimal Cost : 80\n"
     ]
    }
   ],
   "source": [
    "import copy\n",
    "inf = float('inf')\n",
    "\n",
    "class TSP_AI:\n",
    "    \"\"\"Traveling Salesman Problem\n",
    "        -------------------------------------------------------------------\n",
    "        Traveling Salesman Problem using Nearest Neighbour AI algorithm\n",
    "    \"\"\"\n",
    "\n",
    "    def __init__(self, city_matrix = None, source = 0):\n",
    "        self.city_matrix = [[0]*4]*4 if city_matrix is None else city_matrix\n",
    "        self.n : int = len(self.city_matrix)\n",
    "        self.source : int = source\n",
    "\n",
    "\n",
    "    def Input(self):\n",
    "        self.n = int(input('Enter city count : '))\n",
    "\n",
    "        for i in range(self.n):                                         # Get the distances between cities\n",
    "            self.city_matrix.append([\n",
    "                inf if i == j else int(input(f'Cost to travel from city {i+1} to {j+1} : '))\n",
    "                for j in range(self.n)\n",
    "            ])\n",
    "\n",
    "        self.source = int(input('Source: ')) % self.n                   # Get the source city\n",
    "\n",
    "\n",
    "    def solve(self):\n",
    "        minCost = inf                                                   # Initially minCost is infinity\n",
    "        for i in range(self.n):\n",
    "            print(\"Path\", end='')\n",
    "            cost = self._solve(copy.deepcopy(city_matrix), i, i)        # Calling solver for each as source city\n",
    "            print(f\" -> {i+1}    :    Cost = {cost}\")\n",
    "            if cost and cost < minCost: minCost = cost                  # If this cost is optimal, save it\n",
    "        \n",
    "        return minCost\n",
    "\n",
    "\n",
    "    def _solve(self, city_matrix, currCity = 0, source = 0):\n",
    "        if self.n < 2: return 0\n",
    "        print(f\" -> {currCity+1}\", end='')\n",
    "\n",
    "        for i in range(self.n):\n",
    "            city_matrix[i][currCity] = inf                              # Set all values in the currCity column as infinity (once visited, shouldn't be visited anymore)\n",
    "\n",
    "        currMin, currMinPos = inf, 0\n",
    "        for j in range(self.n):\n",
    "            if currMin > city_matrix[currCity][j]:                      # Get the nearest city to the current city\n",
    "                currMin, currMinPos = city_matrix[currCity][j], j\n",
    "\n",
    "        if currMin == inf: return self.city_matrix[currCity][source]    # If currMin is infinity(i.e. all cities have been visited, return cost of moving from this last city to start city to complete the path-loop)\n",
    "        city_matrix[currCity][currMinPos] = city_matrix[currMinPos][currCity] = inf     # Set distance from currCity to next city and vice versa to infinity\n",
    "        return currMin + self._solve(city_matrix, currMinPos, source)   # Calling the next recursion for selected city\n",
    "\n",
    "\n",
    "if __name__ == '__main__':\n",
    "    city_matrix = [\n",
    "        [inf, 10,  15,  20],\n",
    "        [10,  inf, 35,  25],\n",
    "        [15,  35,  inf, 30],\n",
    "        [20,  25,  30,  inf]\n",
    "    ]\n",
    "\n",
    "    source_city = 0\n",
    "    tsp = TSP_AI(city_matrix, source_city)\n",
    "    print(f\"Optimal Cost : {tsp.solve()}\")\n",
    "\n",
    "\n",
    "\n",
    "\n",
    "\n",
    "\n",
    "\n",
    "\n",
    "\n",
    "\n",
    "\n"
   ]
  },
  {
   "cell_type": "code",
   "execution_count": null,
   "metadata": {
    "id": "a31c9aae"
   },
   "outputs": [],
   "source": []
  }
 ],
 "metadata": {
  "colab": {
   "collapsed_sections": [],
   "name": "Assignment_1_TSP.ipynb",
   "provenance": []
  },
  "kernelspec": {
   "display_name": "Python 3",
   "language": "python",
   "name": "python3"
  },
  "language_info": {
   "codemirror_mode": {
    "name": "ipython",
    "version": 3
   },
   "file_extension": ".py",
   "mimetype": "text/x-python",
   "name": "python",
   "nbconvert_exporter": "python",
   "pygments_lexer": "ipython3",
   "version": "3.8.5"
  }
 },
 "nbformat": 4,
 "nbformat_minor": 5
}
